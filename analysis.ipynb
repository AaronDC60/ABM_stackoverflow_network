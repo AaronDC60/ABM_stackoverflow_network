{
 "cells": [
  {
   "cell_type": "code",
   "execution_count": 1,
   "id": "90440f8d",
   "metadata": {},
   "outputs": [],
   "source": [
    "# Imports\n",
    "from model import *\n",
    "import matplotlib.pyplot as plt"
   ]
  },
  {
   "cell_type": "markdown",
   "id": "701fb3ea",
   "metadata": {},
   "source": [
    "### Small scale test"
   ]
  },
  {
   "cell_type": "markdown",
   "id": "6329e57b",
   "metadata": {},
   "source": [
    "A small test with 10 users and only two categories of tags.\n",
    "Check the data after every timestep to get an idea of the dynamics."
   ]
  },
  {
   "cell_type": "code",
   "execution_count": 5,
   "id": "2cf40fa0",
   "metadata": {},
   "outputs": [],
   "source": [
    "# Number of users\n",
    "n = 10"
   ]
  },
  {
   "cell_type": "code",
   "execution_count": 3,
   "id": "64e12600",
   "metadata": {},
   "outputs": [
    {
     "name": "stdout",
     "output_type": "stream",
     "text": [
      "0 [2, 5, 6, 7, 8]\n",
      "1 [0, 1, 3, 4, 9]\n"
     ]
    }
   ],
   "source": [
    "test = system(n, 'tags.txt')\n",
    "\n",
    "for tag, users in enumerate(test.tags):\n",
    "    ids = []\n",
    "    for user in users:\n",
    "        ids.append(user)\n",
    "    print(tag, ids)"
   ]
  },
  {
   "cell_type": "code",
   "execution_count": 4,
   "id": "1d84ca8c",
   "metadata": {},
   "outputs": [
    {
     "name": "stdout",
     "output_type": "stream",
     "text": [
      "ID \t p_ask \t \t \t p_answer \t  \t p_interact \n",
      "\n",
      "0 \t 0.19379265727663825 \t 0.7698489265675115 \t 0.8937471334788671 \n",
      "\n",
      "1 \t 0.12595739445683762 \t 0.06301011133155976 \t 0.40486374295488203 \n",
      "\n",
      "2 \t 0.963550215590954 \t 0.7938056274554173 \t 0.332666482382087 \n",
      "\n",
      "3 \t 0.9344743315182603 \t 0.7102026944630634 \t 0.4617127610723838 \n",
      "\n",
      "4 \t 0.44959498407566817 \t 0.3072315774819596 \t 0.5735350260869533 \n",
      "\n",
      "5 \t 0.03455619764711831 \t 0.18435825821836815 \t 0.5273442752592556 \n",
      "\n",
      "6 \t 0.20128594011080542 \t 0.6702046449039764 \t 0.7801774508725203 \n",
      "\n",
      "7 \t 0.5106753080069096 \t 0.9706647006092757 \t 0.8994641988457297 \n",
      "\n",
      "8 \t 0.13419951481820486 \t 0.9884983476543926 \t 0.5785649158094075 \n",
      "\n",
      "9 \t 0.19756016101558654 \t 0.37860085169610225 \t 0.8195591332893033 \n",
      "\n"
     ]
    }
   ],
   "source": [
    "print('ID \\t p_ask \\t \\t \\t p_answer \\t  \\t p_interact \\n')\n",
    "for user in test.users:\n",
    "    print('%s \\t %s \\t %s \\t %s \\n' %(user.id, user.p_ask, user.p_answer, user.p_interact))"
   ]
  },
  {
   "cell_type": "code",
   "execution_count": 5,
   "id": "940e486e",
   "metadata": {},
   "outputs": [],
   "source": [
    "# One timestep\n",
    "test.step()"
   ]
  },
  {
   "cell_type": "code",
   "execution_count": 6,
   "id": "11b03e01",
   "metadata": {},
   "outputs": [
    {
     "name": "stdout",
     "output_type": "stream",
     "text": [
      "ID \t n_ask \t n_answer n_upvotes reputation \n",
      "\n",
      "0 \t 1 \t 0 \t  0 \t    1 \n",
      "\n",
      "1 \t 0 \t 0 \t  0 \t    1 \n",
      "\n",
      "2 \t 1 \t 0 \t  0 \t    1 \n",
      "\n",
      "3 \t 1 \t 1 \t  0 \t    1 \n",
      "\n",
      "4 \t 0 \t 1 \t  0 \t    1 \n",
      "\n",
      "5 \t 1 \t 0 \t  0 \t    1 \n",
      "\n",
      "6 \t 0 \t 1 \t  0 \t    1 \n",
      "\n",
      "7 \t 1 \t 1 \t  0 \t    1 \n",
      "\n",
      "8 \t 0 \t 3 \t  0 \t    1 \n",
      "\n",
      "9 \t 0 \t 0 \t  0 \t    1 \n",
      "\n"
     ]
    }
   ],
   "source": [
    "print('ID \\t n_ask \\t n_answer n_upvotes reputation \\n')\n",
    "for user in test.users:\n",
    "    upvotes = user.n_questions_upvoted + user.n_answers_upvoted\n",
    "    print('%s \\t %s \\t %s \\t  %s \\t    %s \\n' %(user.id, user.n_questions_asked, user.n_questions_answered, upvotes, user.reputation))"
   ]
  },
  {
   "cell_type": "code",
   "execution_count": 7,
   "id": "682350a9",
   "metadata": {},
   "outputs": [],
   "source": [
    "test.step()"
   ]
  },
  {
   "cell_type": "code",
   "execution_count": 8,
   "id": "23c90c00",
   "metadata": {},
   "outputs": [
    {
     "name": "stdout",
     "output_type": "stream",
     "text": [
      "ID \t n_ask \t n_answer n_upvotes reputation \n",
      "\n",
      "0 \t 1 \t 1 \t  0 \t    1 \n",
      "\n",
      "1 \t 0 \t 0 \t  0 \t    1 \n",
      "\n",
      "2 \t 2 \t 0 \t  0 \t    1 \n",
      "\n",
      "3 \t 2 \t 1 \t  0 \t    1 \n",
      "\n",
      "4 \t 0 \t 2 \t  0 \t    1 \n",
      "\n",
      "5 \t 1 \t 1 \t  0 \t    1 \n",
      "\n",
      "6 \t 0 \t 1 \t  0 \t    1 \n",
      "\n",
      "7 \t 1 \t 2 \t  0 \t    1 \n",
      "\n",
      "8 \t 0 \t 4 \t  0 \t    1 \n",
      "\n",
      "9 \t 1 \t 0 \t  0 \t    1 \n",
      "\n"
     ]
    }
   ],
   "source": [
    "print('ID \\t n_ask \\t n_answer n_upvotes reputation \\n')\n",
    "for user in test.users:\n",
    "    upvotes = user.n_questions_upvoted + user.n_answers_upvoted\n",
    "    print('%s \\t %s \\t %s \\t  %s \\t    %s \\n' %(user.id, user.n_questions_asked, user.n_questions_answered, upvotes, user.reputation))"
   ]
  },
  {
   "cell_type": "code",
   "execution_count": 9,
   "id": "0a0a662d",
   "metadata": {},
   "outputs": [],
   "source": [
    "test.step()"
   ]
  },
  {
   "cell_type": "code",
   "execution_count": 10,
   "id": "aec3451e",
   "metadata": {},
   "outputs": [
    {
     "name": "stdout",
     "output_type": "stream",
     "text": [
      "ID \t n_ask \t n_answer n_upvotes reputation \n",
      "\n",
      "0 \t 1 \t 2 \t  0 \t    11 \n",
      "\n",
      "1 \t 0 \t 0 \t  0 \t    1 \n",
      "\n",
      "2 \t 3 \t 0 \t  0 \t    21 \n",
      "\n",
      "3 \t 3 \t 1 \t  0 \t    16 \n",
      "\n",
      "4 \t 0 \t 2 \t  1 \t    16 \n",
      "\n",
      "5 \t 1 \t 1 \t  0 \t    1 \n",
      "\n",
      "6 \t 0 \t 2 \t  3 \t    26 \n",
      "\n",
      "7 \t 2 \t 3 \t  0 \t    11 \n",
      "\n",
      "8 \t 0 \t 6 \t  2 \t    41 \n",
      "\n",
      "9 \t 1 \t 1 \t  0 \t    1 \n",
      "\n"
     ]
    }
   ],
   "source": [
    "print('ID \\t n_ask \\t n_answer n_upvotes reputation \\n')\n",
    "for user in test.users:\n",
    "    upvotes = user.n_questions_upvoted + user.n_answers_upvoted\n",
    "    print('%s \\t %s \\t %s \\t  %s \\t    %s \\n' %(user.id, user.n_questions_asked, user.n_questions_answered, upvotes, user.reputation))"
   ]
  },
  {
   "cell_type": "code",
   "execution_count": 11,
   "id": "73c718d4",
   "metadata": {},
   "outputs": [],
   "source": [
    "test.step()"
   ]
  },
  {
   "cell_type": "code",
   "execution_count": 12,
   "id": "7e94aefd",
   "metadata": {},
   "outputs": [
    {
     "name": "stdout",
     "output_type": "stream",
     "text": [
      "ID \t n_ask \t n_answer n_upvotes reputation \n",
      "\n",
      "0 \t 1 \t 3 \t  0 \t    56 \n",
      "\n",
      "1 \t 0 \t 0 \t  0 \t    1 \n",
      "\n",
      "2 \t 4 \t 1 \t  2 \t    81 \n",
      "\n",
      "3 \t 4 \t 1 \t  2 \t    26 \n",
      "\n",
      "4 \t 1 \t 3 \t  4 \t    41 \n",
      "\n",
      "5 \t 1 \t 1 \t  0 \t    1 \n",
      "\n",
      "6 \t 0 \t 3 \t  9 \t    56 \n",
      "\n",
      "7 \t 2 \t 4 \t  5 \t    56 \n",
      "\n",
      "8 \t 0 \t 7 \t  5 \t    81 \n",
      "\n",
      "9 \t 1 \t 1 \t  2 \t    21 \n",
      "\n"
     ]
    }
   ],
   "source": [
    "print('ID \\t n_ask \\t n_answer n_upvotes reputation \\n')\n",
    "for user in test.users:\n",
    "    upvotes = user.n_questions_upvoted + user.n_answers_upvoted\n",
    "    print('%s \\t %s \\t %s \\t  %s \\t    %s \\n' %(user.id, user.n_questions_asked, user.n_questions_answered, upvotes, user.reputation))"
   ]
  },
  {
   "cell_type": "code",
   "execution_count": 13,
   "id": "2be2a305",
   "metadata": {},
   "outputs": [],
   "source": [
    "test.step()"
   ]
  },
  {
   "cell_type": "code",
   "execution_count": 14,
   "id": "2073e2ef",
   "metadata": {},
   "outputs": [
    {
     "name": "stdout",
     "output_type": "stream",
     "text": [
      "ID \t n_ask \t n_answer n_upvotes reputation \n",
      "\n",
      "0 \t 2 \t 4 \t  3 \t    111 \n",
      "\n",
      "1 \t 0 \t 0 \t  0 \t    1 \n",
      "\n",
      "2 \t 5 \t 1 \t  2 \t    126 \n",
      "\n",
      "3 \t 5 \t 2 \t  5 \t    66 \n",
      "\n",
      "4 \t 1 \t 3 \t  6 \t    81 \n",
      "\n",
      "5 \t 1 \t 2 \t  0 \t    31 \n",
      "\n",
      "6 \t 0 \t 3 \t  13 \t    71 \n",
      "\n",
      "7 \t 3 \t 5 \t  8 \t    66 \n",
      "\n",
      "8 \t 0 \t 9 \t  7 \t    101 \n",
      "\n",
      "9 \t 1 \t 2 \t  6 \t    21 \n",
      "\n"
     ]
    }
   ],
   "source": [
    "print('ID \\t n_ask \\t n_answer n_upvotes reputation \\n')\n",
    "for user in test.users:\n",
    "    upvotes = user.n_questions_upvoted + user.n_answers_upvoted\n",
    "    print('%s \\t %s \\t %s \\t  %s \\t    %s \\n' %(user.id, user.n_questions_asked, user.n_questions_answered, upvotes, user.reputation))"
   ]
  },
  {
   "cell_type": "markdown",
   "id": "28c48323",
   "metadata": {},
   "source": [
    "### Large scale test"
   ]
  },
  {
   "cell_type": "markdown",
   "id": "f973c531",
   "metadata": {},
   "source": [
    "Test with 2000 users and 12 different tags to see if the model can get to a similar distribution as the paper."
   ]
  },
  {
   "cell_type": "code",
   "execution_count": 2,
   "id": "6913da50",
   "metadata": {},
   "outputs": [],
   "source": [
    "n = 2000"
   ]
  },
  {
   "cell_type": "code",
   "execution_count": 4,
   "id": "cbb1bdcc",
   "metadata": {},
   "outputs": [
    {
     "name": "stdout",
     "output_type": "stream",
     "text": [
      "0 287\n",
      "1 275\n",
      "2 230\n",
      "3 205\n",
      "4 193\n",
      "5 190\n",
      "6 154\n",
      "7 118\n",
      "8 93\n",
      "9 85\n",
      "10 84\n",
      "11 86\n"
     ]
    }
   ],
   "source": [
    "# Amount of users per tag\n",
    "test = system(n, 'tags.txt')\n",
    "\n",
    "for tag, users in enumerate(test.tags):\n",
    "    print(tag, len(users))"
   ]
  },
  {
   "cell_type": "code",
   "execution_count": 5,
   "id": "0a2a7c49",
   "metadata": {},
   "outputs": [],
   "source": [
    "# Run for 10 timesteps\n",
    "test.run(10)"
   ]
  },
  {
   "cell_type": "code",
   "execution_count": 6,
   "id": "095d8958",
   "metadata": {},
   "outputs": [],
   "source": [
    "# Collect the total number of questions and answers that a user has upvoted\n",
    "# This is the number of nodes that user would have in a bipartite network\n",
    "\n",
    "upvotes = []\n",
    "for user in test.users:\n",
    "    upvotes.append(user.n_questions_upvoted + user.n_answers_upvoted)"
   ]
  },
  {
   "cell_type": "code",
   "execution_count": 7,
   "id": "091abbf2",
   "metadata": {},
   "outputs": [],
   "source": [
    "# Collect the reputation of every user\n",
    "\n",
    "reputation = []\n",
    "for user in test.users:\n",
    "    reputation.append(user.reputation)"
   ]
  },
  {
   "cell_type": "code",
   "execution_count": 8,
   "id": "c1c7a247",
   "metadata": {},
   "outputs": [],
   "source": [
    "# Calculate the cummulative distribution function of the upvotes and reputation\n",
    "\n",
    "pdf_upvotes = test.calc_pdf(upvotes)\n",
    "cdf_upvotes = test.calc_cdf(pdf_upvotes)\n",
    "\n",
    "pdf_reputation = test.calc_pdf(reputation)\n",
    "cdf_reputation = test.calc_cdf(pdf_reputation)"
   ]
  },
  {
   "cell_type": "markdown",
   "id": "b7a79ad4",
   "metadata": {},
   "source": [
    "#### Plot upvotes"
   ]
  },
  {
   "cell_type": "code",
   "execution_count": 9,
   "id": "e5cb785f",
   "metadata": {},
   "outputs": [],
   "source": [
    "y_axis_upvotes = []\n",
    "for value in upvotes:\n",
    "    # 1 - CDF on the y axis\n",
    "    y_axis_upvotes.append(1 - cdf_upvotes[value])"
   ]
  },
  {
   "cell_type": "code",
   "execution_count": 10,
   "id": "1e719760",
   "metadata": {},
   "outputs": [
    {
     "data": {
      "image/png": "[encoded data removed]",
      "text/plain": [
       "<Figure size 720x720 with 1 Axes>"
      ]
     },
     "metadata": {
      "needs_background": "light"
     },
     "output_type": "display_data"
    }
   ],
   "source": [
    "# According to the paper this should follow a power law with an exponential cutoff\n",
    "\n",
    "plt.figure(figsize = (10,10))\n",
    "plt.scatter(upvotes, y_axis_upvotes, color = 'black')\n",
    "plt.xscale('log', base=np.e)\n",
    "plt.yscale('log', base=np.e)\n",
    "plt.show()"
   ]
  },
  {
   "cell_type": "markdown",
   "id": "a9b79c0a",
   "metadata": {},
   "source": [
    "#### Plot reputation"
   ]
  },
  {
   "cell_type": "markdown",
   "id": "22ef0274",
   "metadata": {},
   "source": [
    "I made a similar plot for the reputation to see what the result would be, but this is not in that paper."
   ]
  },
  {
   "cell_type": "code",
   "execution_count": 11,
   "id": "5a1ae4e3",
   "metadata": {},
   "outputs": [],
   "source": [
    "y_axis_reputation = []\n",
    "for value in reputation:\n",
    "    y_axis_reputation.append(1 - cdf_reputation[value])"
   ]
  },
  {
   "cell_type": "code",
   "execution_count": 12,
   "id": "9233c7b1",
   "metadata": {},
   "outputs": [
    {
     "data": {
      "image/png": "[encoded data removed]",
      "text/plain": [
       "<Figure size 720x720 with 1 Axes>"
      ]
     },
     "metadata": {
      "needs_background": "light"
     },
     "output_type": "display_data"
    }
   ],
   "source": [
    "plt.figure(figsize = (10,10))\n",
    "plt.scatter(reputation, y_axis_reputation, color = 'black')\n",
    "plt.xscale('log', base = np.e)\n",
    "plt.yscale('log', base = np.e)\n",
    "plt.show()"
   ]
  },
  {
   "cell_type": "code",
   "execution_count": null,
   "id": "bc9a9ff2",
   "metadata": {},
   "outputs": [],
   "source": []
  }
 ],
 "metadata": {
  "kernelspec": {
   "display_name": "Python 3 (ipykernel)",
   "language": "python",
   "name": "python3"
  },
  "language_info": {
   "codemirror_mode": {
    "name": "ipython",
    "version": 3
   },
   "file_extension": ".py",
   "mimetype": "text/x-python",
   "name": "python",
   "nbconvert_exporter": "python",
   "pygments_lexer": "ipython3",
   "version": "3.9.13"
  }
 },
 "nbformat": 4,
 "nbformat_minor": 5
}
